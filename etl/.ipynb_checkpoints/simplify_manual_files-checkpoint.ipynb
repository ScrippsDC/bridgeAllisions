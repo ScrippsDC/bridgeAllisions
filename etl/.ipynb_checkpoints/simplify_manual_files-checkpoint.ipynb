{
 "cells": [
  {
   "cell_type": "markdown",
   "id": "b483c152",
   "metadata": {},
   "source": [
    "# Preparing Airtable data for the analysis\n",
    "These are some interstitial helper scripts to clean some of our manually entered data up and make it easier to work with in the rest of the ETL.\n",
    "\n",
    "## Main airtable data\n",
    "This first one needs to be run before 4_filter_id_missing_coord.py"
   ]
  },
  {
   "cell_type": "code",
   "execution_count": 1,
   "id": "700e2fe3",
   "metadata": {},
   "outputs": [],
   "source": [
    "import pandas\n",
    "\n",
    "LOAD_AIRTABLE = \"../data/manual/C. Activity details-Jan 1, 2019 and after.csv\"\n",
    "\n",
    "airtable = pandas.read_csv(LOAD_AIRTABLE)\n",
    "\n",
    "def make_pt_check(row):\n",
    "    pt = row[\"PT - is this a bridge?\"]\n",
    "    if pandas.isna(pt):\n",
    "        return None\n",
    "    return pt == \"Bridge\"\n",
    "\n",
    "def make_rc_check(row):\n",
    "    rc1 = row[\"rosie category\"]\n",
    "    rc2 = row[\"rc_is_bridge (from activity_id copy)\"]\n",
    "    if pandas.isna(rc1) & pandas.isna(rc2):\n",
    "        return None\n",
    "    return ((rc1 in [\"Bridge\",\"Pier\",\"swing/draw bridge\"])|(rc2 == \"bridge\"))\n",
    "\n",
    "def make_af_check(row):\n",
    "    af1 = row[\"data_check_bridge\"]\n",
    "    af2 = row[\"AF_bridge? (from link_to_3)\"]\n",
    "    af3 = row[\"AF_include? (from activity_id copy)\"]\n",
    "    if pandas.isna(af1) & pandas.isna(af2) & pandas.isna(af3):\n",
    "        return None\n",
    "    return True\n",
    "\n",
    "def ambiguous_facility_cost(nbf):\n",
    "    if pandas.isna(nbf):\n",
    "        return None\n",
    "    if nbf == \"possibly no bridge damage\":\n",
    "        return True\n",
    "    return False\n",
    "    \n",
    "\n",
    "airtable[\"ambiguous_facility_cost\"] = airtable[\"non_bridge_facility--check\"].apply(ambiguous_facility_cost)\n",
    "airtable[\"pt_check\"] = airtable.apply(make_pt_check,axis=1)\n",
    "airtable[\"rc_check\"] = airtable.apply(make_rc_check,axis=1)\n",
    "airtable[\"af_check\"] = airtable.apply(make_af_check,axis=1)\n",
    "airtable[\"no_false\"] = ((airtable[\"pt_check\"]!=False) & (airtable[\"af_check\"]!=False) & (airtable[\"rc_check\"]!=False))\n",
    "airtable[\"count_true\"] = airtable[[\"pt_check\",\"af_check\",\"rc_check\"]].sum(axis=1)\n",
    "airtable[\"passed_review\"] = (airtable[\"no_false\"]) & (airtable[\"count_true\"]>=2)\n",
    "airtable[[\"activity_id\",\"pt_check\",\"rc_check\",\"af_check\",\"ambiguous_facility_cost\",\"no_false\",\"count_true\",\"passed_review\"]].to_csv(\"../data/manual/manual_bridge_review.csv\",index=False)"
   ]
  },
  {
   "cell_type": "markdown",
   "id": "c009e83a",
   "metadata": {},
   "source": [
    "## Missing coords\n",
    "This needs to be run before 6_combine_geodata.py"
   ]
  },
  {
   "cell_type": "code",
   "execution_count": 2,
   "id": "feeaa16f",
   "metadata": {},
   "outputs": [],
   "source": [
    "LOAD_CORRECTED_COORDS = \"../data/manual/5. allisions_far_from_bridges-Grid view.csv\"\n",
    "\n",
    "# coordinates that were reviewed for being far from bridges\n",
    "corrected_coords = pandas.read_csv(LOAD_CORRECTED_COORDS,encoding=\"utf-8\")\n",
    "\n",
    "# rc_coords have been checked against af_coords\n",
    "corrected_coords = corrected_coords[corrected_coords[\"rc_coord\"].str.strip()!=\",\"] # Taking out uncorrected coords\n",
    "corrected_coords[\"lat\"] = corrected_coords[\"rc_coord\"].apply(lambda x: float(x.split(\",\")[0]))\n",
    "corrected_coords[\"long\"] = corrected_coords[\"rc_coord\"].apply(lambda x: float(x.split(\",\")[1]))\n",
    "\n",
    "corrected_coords[[\"activity_id\",\"lat\",\"long\"]].to_csv(\"../data/manual/corr_coords.csv\")"
   ]
  },
  {
   "cell_type": "markdown",
   "id": "af4ed78e",
   "metadata": {},
   "source": [
    "## Corrected coords\n",
    "This needs to be run before 6_combine_geodata.py"
   ]
  },
  {
   "cell_type": "code",
   "execution_count": 3,
   "id": "cdda4a71",
   "metadata": {},
   "outputs": [],
   "source": [
    "LOAD_CORRECTED_COORDS = \"../data/manual/5. allisions_far_from_bridges-Grid view.csv\"\n",
    "\n",
    "# coordinates that were reviewed for being far from bridges\n",
    "corrected_coords = pandas.read_csv(LOAD_CORRECTED_COORDS,encoding=\"utf-8\")\n",
    "\n",
    "# rc_coords have been checked against af_coords\n",
    "corrected_coords = corrected_coords[corrected_coords[\"rc_coord\"].str.strip()!=\",\"] # Taking out uncorrected coords\n",
    "corrected_coords[\"lat\"] = corrected_coords[\"rc_coord\"].apply(lambda x: float(x.split(\",\")[0]))\n",
    "corrected_coords[\"long\"] = corrected_coords[\"rc_coord\"].apply(lambda x: float(x.split(\",\")[1]))\n",
    "\n",
    "corrected_coords[[\"activity_id\",\"lat\",\"long\"]].to_csv(\"../data/manual/corr_coords.csv\")"
   ]
  }
 ],
 "metadata": {
  "kernelspec": {
   "display_name": "Python 3 (ipykernel)",
   "language": "python",
   "name": "python3"
  },
  "language_info": {
   "codemirror_mode": {
    "name": "ipython",
    "version": 3
   },
   "file_extension": ".py",
   "mimetype": "text/x-python",
   "name": "python",
   "nbconvert_exporter": "python",
   "pygments_lexer": "ipython3",
   "version": "3.11.8"
  }
 },
 "nbformat": 4,
 "nbformat_minor": 5
}
